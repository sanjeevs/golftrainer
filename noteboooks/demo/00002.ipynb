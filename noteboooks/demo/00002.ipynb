{
 "cells": [
  {
   "cell_type": "code",
   "execution_count": 1,
   "id": "1d25588f-9105-4f98-9537-5fedff1f2e18",
   "metadata": {},
   "outputs": [],
   "source": [
    "import matplotlib.pyplot as plt"
   ]
  },
  {
   "cell_type": "code",
   "execution_count": 2,
   "id": "00c8cec8-3953-4f59-bc6e-98c0b7ee0c11",
   "metadata": {},
   "outputs": [],
   "source": [
    "from golftrainer import factory, geom, swing_analysis"
   ]
  },
  {
   "cell_type": "code",
   "execution_count": 3,
   "id": "1d12d627-ea3b-4f13-8704-6d69da40c781",
   "metadata": {},
   "outputs": [],
   "source": [
    "json_fname = \"../../data/00002.json\"\n",
    "gd = factory.create_golf_data(json_fname)"
   ]
  },
  {
   "cell_type": "markdown",
   "id": "071fa4d4-537f-4b18-8ca8-76bbac715ebb",
   "metadata": {},
   "source": [
    "## Visual \n",
    "\n",
    "From golftracker package script\n",
    "\n",
    "'''\n",
    "display_swing_db 00002.pkl\n",
    "'''\n",
    "\n",
    "**Backswing** = 0 : 75\n",
    "\n",
    "tA = 76 : 84\n",
    "\n",
    "tB = 84: 89\n",
    "\n",
    "**Downswing** = 89 : 92\n",
    "\n",
    "\n",
    "Finish = 95 : -1"
   ]
  },
  {
   "cell_type": "code",
   "execution_count": 4,
   "id": "da233132-68cf-4d55-bc42-56a5ab6e0fe2",
   "metadata": {},
   "outputs": [],
   "source": [
    "# Find the swing phases\n",
    "analysis = swing_analysis.SwingAnalysis(gd)"
   ]
  },
  {
   "cell_type": "code",
   "execution_count": 5,
   "id": "33f62d8d-9817-44c8-86d8-2af769cf9a8e",
   "metadata": {},
   "outputs": [
    {
     "data": {
      "text/plain": [
       "{'Backswing': [0, 75],\n",
       " 'TransitA': [75, 85],\n",
       " 'TransitB': [85, 92],\n",
       " 'Downswing': [92, 101],\n",
       " 'Finish': [110, 148]}"
      ]
     },
     "execution_count": 5,
     "metadata": {},
     "output_type": "execute_result"
    }
   ],
   "source": [
    "phase_dict = analysis.swing_phases()\n",
    "phase_dict"
   ]
  },
  {
   "cell_type": "code",
   "execution_count": 6,
   "id": "3878ab7f-b13b-468f-b35c-972d08361573",
   "metadata": {},
   "outputs": [
    {
     "data": {
      "text/plain": [
       "92"
      ]
     },
     "execution_count": 6,
     "metadata": {},
     "output_type": "execute_result"
    }
   ],
   "source": [
    "impact_idx = analysis.impact_frame_idx(phase_dict)\n",
    "impact_idx"
   ]
  },
  {
   "cell_type": "code",
   "execution_count": null,
   "id": "dc21407f-c255-4d44-b8fd-d7989b225c22",
   "metadata": {},
   "outputs": [],
   "source": []
  }
 ],
 "metadata": {
  "kernelspec": {
   "display_name": "Python 3 (ipykernel)",
   "language": "python",
   "name": "python3"
  },
  "language_info": {
   "codemirror_mode": {
    "name": "ipython",
    "version": 3
   },
   "file_extension": ".py",
   "mimetype": "text/x-python",
   "name": "python",
   "nbconvert_exporter": "python",
   "pygments_lexer": "ipython3",
   "version": "3.9.7"
  }
 },
 "nbformat": 4,
 "nbformat_minor": 5
}
