{
 "cells": [
  {
   "cell_type": "code",
   "execution_count": 1,
   "id": "d2c26c6a-bf4f-49d1-b827-384bcb85b348",
   "metadata": {},
   "outputs": [],
   "source": [
    "import matplotlib.pyplot as plt"
   ]
  },
  {
   "cell_type": "code",
   "execution_count": 2,
   "id": "e478ba52-3fad-4702-b357-0d17c8053070",
   "metadata": {},
   "outputs": [],
   "source": [
    "from golftrainer import factory, geom, swing_analysis"
   ]
  },
  {
   "cell_type": "code",
   "execution_count": 5,
   "id": "e9f90294-6f21-4737-aa80-92a2d535ea36",
   "metadata": {},
   "outputs": [],
   "source": [
    "json_fname = \"../../data/00003.json\"\n",
    "gd = factory.create_golf_data(json_fname)"
   ]
  },
  {
   "cell_type": "markdown",
   "id": "d9e40d9c-a8b7-432f-a23f-81f52a3ce2e3",
   "metadata": {},
   "source": [
    "## Visual\n",
    "\n",
    "Looking at pakage GolfTracker\n",
    "\n",
    "```\n",
    "display_golf_swing 00003.pkl\n",
    "```\n",
    "\n",
    "* Backswing is from frame 0 to 47\n",
    "* transition A is from frame 48 to 52\n",
    "* transition B is from frame 52 to 61\n",
    "* Downswing is from 61 to 67 (Impact is at 67)\n",
    "* Finish is from 68 to -1\n"
   ]
  },
  {
   "cell_type": "code",
   "execution_count": 6,
   "id": "98b41270-db90-485e-a4b8-5fea5f5cd830",
   "metadata": {},
   "outputs": [],
   "source": [
    "# Find the swing phases\n",
    "analysis = swing_analysis.SwingAnalysis(gd)"
   ]
  },
  {
   "cell_type": "code",
   "execution_count": 8,
   "id": "9dfb6b21-679e-4a79-b3a3-28c16d592c44",
   "metadata": {},
   "outputs": [
    {
     "data": {
      "text/plain": [
       "{'Backswing': [0, 40],\n",
       " 'TransitA': [40, 50],\n",
       " 'TransitB': [50, 60],\n",
       " 'Downswing': [60, 70],\n",
       " 'Finish': None}"
      ]
     },
     "execution_count": 8,
     "metadata": {},
     "output_type": "execute_result"
    }
   ],
   "source": [
    "phase_dict = analysis.swing_phases(ext_angle=80)\n",
    "phase_dict"
   ]
  },
  {
   "cell_type": "code",
   "execution_count": 9,
   "id": "47bc122c-28d8-4abf-982c-f9e8ad9a85b4",
   "metadata": {},
   "outputs": [
    {
     "data": {
      "text/plain": [
       "70"
      ]
     },
     "execution_count": 9,
     "metadata": {},
     "output_type": "execute_result"
    }
   ],
   "source": [
    "impact_idx = analysis.impact_frame_idx(phase_dict)\n",
    "impact_idx"
   ]
  },
  {
   "cell_type": "code",
   "execution_count": null,
   "id": "645d5dc6-2bb4-4c6f-a2df-c4201e1135ac",
   "metadata": {},
   "outputs": [],
   "source": []
  }
 ],
 "metadata": {
  "kernelspec": {
   "display_name": "Python 3 (ipykernel)",
   "language": "python",
   "name": "python3"
  },
  "language_info": {
   "codemirror_mode": {
    "name": "ipython",
    "version": 3
   },
   "file_extension": ".py",
   "mimetype": "text/x-python",
   "name": "python",
   "nbconvert_exporter": "python",
   "pygments_lexer": "ipython3",
   "version": "3.9.7"
  }
 },
 "nbformat": 4,
 "nbformat_minor": 5
}
