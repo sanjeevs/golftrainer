{
 "cells": [
  {
   "cell_type": "code",
   "execution_count": 1,
   "id": "552d79f9-f475-4737-bc3e-965deebee3f6",
   "metadata": {},
   "outputs": [],
   "source": [
    "import matplotlib.pyplot as plt"
   ]
  },
  {
   "cell_type": "code",
   "execution_count": 2,
   "id": "948e690b-8e17-4764-94e1-5d5aa02a866c",
   "metadata": {},
   "outputs": [],
   "source": [
    "from golftrainer import factory, geom, swing_analysis"
   ]
  },
  {
   "cell_type": "code",
   "execution_count": 3,
   "id": "d6fce236-1924-4c93-af96-5dc742787189",
   "metadata": {},
   "outputs": [],
   "source": [
    "json_fname = \"../../data/00001.json\"\n",
    "gd = factory.create_golf_data(json_fname)"
   ]
  },
  {
   "cell_type": "code",
   "execution_count": 4,
   "id": "b4e5c18f-d408-45fc-8555-4367e17e632b",
   "metadata": {},
   "outputs": [
    {
     "data": {
      "text/plain": [
       "VideoSpec(height=768, width=432, num_frames=136, fps=30, scale=100, rotate='')"
      ]
     },
     "execution_count": 4,
     "metadata": {},
     "output_type": "execute_result"
    }
   ],
   "source": [
    "gd.video_spec"
   ]
  },
  {
   "cell_type": "markdown",
   "id": "d27d3b44-3bfa-47b2-a55e-ae61d605c82a",
   "metadata": {},
   "source": [
    "A golf swing has the following phases.\r\n",
    "\r\n",
    "1. **Backswing**: From the start, the club head is moving in a straight line till there is a sharp change in angle (> 100 degrees).\r\n",
    "   \r\n",
    "2. **Transition A**: The club head is now moving in the positive 'x' direction back toward the head till it stops and reverses direction.\r\n",
    "\r\n",
    "3. **Transition B**: The club head is moving downward till a sharp change in angle.\r\n",
    "\r\n",
    "4. **Downswing**: The club head is moving in a positive direction till it reaches close to the start position. This is the impacte5 Impact**\r\n",
    "\r\n",
    "7After the impact to the end of swing.rses direction\r\n",
    "\r\n",
    "*Visually using the display utility from golftracker*\r\n",
    "\r\n",
    "- Backswing from 0 to 70\r\n",
    "- Transition A from 71 to 80\r\n",
    "- Transition B from 81 to 86 (Frame 86 is the highest y value)\r\n",
    "- Downswing from 87 having impact at frame 90\r\n",
    "- Follow Through from 91 to 96 (Frame 96 is the highest y value)\r\n",
    "- Finish from 96 to 105 (end)\r\n",
    "96 to 105 (end)"
   ]
  },
  {
   "cell_type": "code",
   "execution_count": 5,
   "id": "8d74df48-4d58-4ce6-9877-16fea9322c55",
   "metadata": {},
   "outputs": [],
   "source": [
    "# Find the swing phases\n",
    "analysis = swing_analysis.SwingAnalysis(gd)"
   ]
  },
  {
   "cell_type": "code",
   "execution_count": 7,
   "id": "bb08b108-d3b5-4463-8963-19035cc75d9d",
   "metadata": {},
   "outputs": [
    {
     "data": {
      "text/plain": [
       "{'Backswing': [0, 70],\n",
       " 'TransitA': [70, 80],\n",
       " 'TransitB': [80, 85],\n",
       " 'Downswing': [85, 89],\n",
       " 'Finish': None}"
      ]
     },
     "execution_count": 7,
     "metadata": {},
     "output_type": "execute_result"
    }
   ],
   "source": [
    "phase_dict = analysis.swing_phases()\n",
    "phase_dict"
   ]
  },
  {
   "cell_type": "markdown",
   "id": "64bae70d-884f-4ef6-87dd-b78f2d576166",
   "metadata": {},
   "source": [
    "## Check That backswing club head speed is 10x slower than downswing.\n",
    "\n",
    "Calculate the speed of the club head in the backswing and downswing.\n",
    "\n",
    "We know the \n",
    "* fps\n",
    "\n",
    "* distance in pixels the club head travels.\n",
    "\n"
   ]
  },
  {
   "cell_type": "code",
   "execution_count": 10,
   "id": "03083632-4802-4c5d-9f6f-04464dddddbe",
   "metadata": {},
   "outputs": [
    {
     "name": "stdout",
     "output_type": "stream",
     "text": [
      "Club head back swing speed = 223.25483671625634 pixels/sec\n"
     ]
    }
   ],
   "source": [
    "back_speed = geom.speed(analysis.ch_backswing_df(phase_dict), gd.video_spec.fps)\n",
    "print(f\"Club head back swing speed = {back_speed} pixels/sec\")"
   ]
  },
  {
   "cell_type": "code",
   "execution_count": 11,
   "id": "9ec70970-3390-46a5-90cb-306c71c2be92",
   "metadata": {},
   "outputs": [
    {
     "name": "stdout",
     "output_type": "stream",
     "text": [
      "Club head down swing speed = 2985.1800615708257 pixels/sec\n"
     ]
    }
   ],
   "source": [
    "down_speed = geom.speed(analysis.ch_downswing_df(phase_dict), gd.video_spec.fps)\n",
    "print(f\"Club head down swing speed = {down_speed} pixels/sec\")"
   ]
  },
  {
   "cell_type": "markdown",
   "id": "42591288-84c6-4eea-aa7b-c057b9038293",
   "metadata": {},
   "source": [
    "## Find the frame at which impact happens\n",
    "\n",
    "* At impact the position of the club head is closest to the starting point.\n",
    "\n",
    "* It must be after the backswing "
   ]
  },
  {
   "cell_type": "code",
   "execution_count": 12,
   "id": "84411904-c91f-40dc-b258-baed553c66a7",
   "metadata": {},
   "outputs": [
    {
     "data": {
      "text/plain": [
       "90"
      ]
     },
     "execution_count": 12,
     "metadata": {},
     "output_type": "execute_result"
    }
   ],
   "source": [
    "impact_idx = analysis.impact_frame_idx(phase_dict)\n",
    "impact_idx"
   ]
  },
  {
   "cell_type": "code",
   "execution_count": 25,
   "id": "bccab9a8-b17e-43d0-9590-3383048be91c",
   "metadata": {},
   "outputs": [],
   "source": [
    "ball_pos = (ch_backswing_df.iloc[0]['x'], ch_backswing_df.iloc[0]['y'])"
   ]
  },
  {
   "cell_type": "code",
   "execution_count": 26,
   "id": "091c4313-df8c-4312-9b36-5073d540926b",
   "metadata": {},
   "outputs": [
    {
     "data": {
      "text/plain": [
       "(324, 202)"
      ]
     },
     "execution_count": 26,
     "metadata": {},
     "output_type": "execute_result"
    }
   ],
   "source": [
    "ball_pos\n"
   ]
  },
  {
   "cell_type": "code",
   "execution_count": null,
   "id": "056e22fa-a669-4cc7-8865-af0a7da0b182",
   "metadata": {},
   "outputs": [],
   "source": []
  }
 ],
 "metadata": {
  "kernelspec": {
   "display_name": "Python 3 (ipykernel)",
   "language": "python",
   "name": "python3"
  },
  "language_info": {
   "codemirror_mode": {
    "name": "ipython",
    "version": 3
   },
   "file_extension": ".py",
   "mimetype": "text/x-python",
   "name": "python",
   "nbconvert_exporter": "python",
   "pygments_lexer": "ipython3",
   "version": "3.9.7"
  }
 },
 "nbformat": 4,
 "nbformat_minor": 5
}
