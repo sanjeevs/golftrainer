{
 "cells": [
  {
   "cell_type": "code",
   "execution_count": 1,
   "id": "6ee1e607-de86-4b36-a1ca-abf8f2ddb208",
   "metadata": {},
   "outputs": [],
   "source": [
    "import matplotlib.pyplot as plt"
   ]
  },
  {
   "cell_type": "code",
   "execution_count": 2,
   "id": "4f282c18-7135-4214-8385-e3d8061e6186",
   "metadata": {},
   "outputs": [],
   "source": [
    "import golftrainer.factory"
   ]
  },
  {
   "cell_type": "code",
   "execution_count": 3,
   "id": "87904e29-e304-4b20-88ac-183442ed412f",
   "metadata": {},
   "outputs": [],
   "source": [
    "json_fname = \"../../data/demo.json\"\n",
    "gd = golftrainer.factory.create_golf_data(json_fname)"
   ]
  },
  {
   "cell_type": "code",
   "execution_count": 4,
   "id": "a0491631-2041-4dcd-9bf6-943f490bd048",
   "metadata": {},
   "outputs": [
    {
     "data": {
      "text/plain": [
       "VideoSpec(height=768, width=432, num_frames=136, fps=30, scale=100, rotate='')"
      ]
     },
     "execution_count": 4,
     "metadata": {},
     "output_type": "execute_result"
    }
   ],
   "source": [
    "gd.video_spec"
   ]
  },
  {
   "cell_type": "code",
   "execution_count": 5,
   "id": "ef6d1ac0-987b-4d57-94a6-9f23c1263780",
   "metadata": {},
   "outputs": [],
   "source": [
    "df = gd.cart_data_frame()"
   ]
  },
  {
   "cell_type": "code",
   "execution_count": 6,
   "id": "86b77497-7179-4d38-9a91-7c10b4559296",
   "metadata": {},
   "outputs": [
    {
     "name": "stdout",
     "output_type": "stream",
     "text": [
      "['nose_x', 'nose_y', 'left_eye_inner_x', 'left_eye_inner_y', 'left_eye_x', 'left_eye_y', 'left_eye_outer_x', 'left_eye_outer_y', 'right_eye_inner_x', 'right_eye_inner_y', 'right_eye_x', 'right_eye_y', 'right_eye_outer_x', 'right_eye_outer_y', 'left_ear_x', 'left_ear_y', 'right_ear_x', 'right_ear_y', 'mouth_left_x', 'mouth_left_y', 'mouth_right_x', 'mouth_right_y', 'left_shoulder_x', 'left_shoulder_y', 'right_shoulder_x', 'right_shoulder_y', 'left_elbow_x', 'left_elbow_y', 'right_elbow_x', 'right_elbow_y', 'left_wrist_x', 'left_wrist_y', 'right_wrist_x', 'right_wrist_y', 'left_pinky_x', 'left_pinky_y', 'right_pinky_x', 'right_pinky_y', 'left_index_x', 'left_index_y', 'right_index_x', 'right_index_y', 'left_thumb_x', 'left_thumb_y', 'right_thumb_x', 'right_thumb_y', 'left_hip_x', 'left_hip_y', 'right_hip_x', 'right_hip_y', 'left_knee_x', 'left_knee_y', 'right_knee_x', 'right_knee_y', 'left_ankle_x', 'left_ankle_y', 'right_ankle_x', 'right_ankle_y', 'left_heel_x', 'left_heel_y', 'right_heel_x', 'right_heel_y', 'left_foot_index_x', 'left_foot_index_y', 'right_foot_index_x', 'right_foot_index_y', 'club_head_x', 'club_head_y']\n"
     ]
    }
   ],
   "source": [
    "print(list(df.columns))"
   ]
  },
  {
   "cell_type": "code",
   "execution_count": 8,
   "id": "62e20ce5-bd90-406d-9334-0ff891cf7fe2",
   "metadata": {},
   "outputs": [
    {
     "data": {
      "text/html": [
       "<div>\n",
       "<style scoped>\n",
       "    .dataframe tbody tr th:only-of-type {\n",
       "        vertical-align: middle;\n",
       "    }\n",
       "\n",
       "    .dataframe tbody tr th {\n",
       "        vertical-align: top;\n",
       "    }\n",
       "\n",
       "    .dataframe thead th {\n",
       "        text-align: right;\n",
       "    }\n",
       "</style>\n",
       "<table border=\"1\" class=\"dataframe\">\n",
       "  <thead>\n",
       "    <tr style=\"text-align: right;\">\n",
       "      <th></th>\n",
       "      <th>nose_x</th>\n",
       "      <th>nose_y</th>\n",
       "      <th>left_eye_inner_x</th>\n",
       "      <th>left_eye_inner_y</th>\n",
       "      <th>left_eye_x</th>\n",
       "      <th>left_eye_y</th>\n",
       "      <th>left_eye_outer_x</th>\n",
       "      <th>left_eye_outer_y</th>\n",
       "      <th>right_eye_inner_x</th>\n",
       "      <th>right_eye_inner_y</th>\n",
       "      <th>...</th>\n",
       "      <th>left_heel_x</th>\n",
       "      <th>left_heel_y</th>\n",
       "      <th>right_heel_x</th>\n",
       "      <th>right_heel_y</th>\n",
       "      <th>left_foot_index_x</th>\n",
       "      <th>left_foot_index_y</th>\n",
       "      <th>right_foot_index_x</th>\n",
       "      <th>right_foot_index_y</th>\n",
       "      <th>club_head_x</th>\n",
       "      <th>club_head_y</th>\n",
       "    </tr>\n",
       "  </thead>\n",
       "  <tbody>\n",
       "    <tr>\n",
       "      <th>0</th>\n",
       "      <td>198.0</td>\n",
       "      <td>486.0</td>\n",
       "      <td>198.0</td>\n",
       "      <td>493.0</td>\n",
       "      <td>196.0</td>\n",
       "      <td>494.0</td>\n",
       "      <td>195.0</td>\n",
       "      <td>495.0</td>\n",
       "      <td>200.0</td>\n",
       "      <td>492.0</td>\n",
       "      <td>...</td>\n",
       "      <td>129.0</td>\n",
       "      <td>216.0</td>\n",
       "      <td>129.0</td>\n",
       "      <td>200.0</td>\n",
       "      <td>171.0</td>\n",
       "      <td>218.0</td>\n",
       "      <td>178.0</td>\n",
       "      <td>206.0</td>\n",
       "      <td>324.0</td>\n",
       "      <td>202.0</td>\n",
       "    </tr>\n",
       "    <tr>\n",
       "      <th>1</th>\n",
       "      <td>197.0</td>\n",
       "      <td>485.0</td>\n",
       "      <td>197.0</td>\n",
       "      <td>493.0</td>\n",
       "      <td>196.0</td>\n",
       "      <td>494.0</td>\n",
       "      <td>195.0</td>\n",
       "      <td>495.0</td>\n",
       "      <td>200.0</td>\n",
       "      <td>492.0</td>\n",
       "      <td>...</td>\n",
       "      <td>128.0</td>\n",
       "      <td>216.0</td>\n",
       "      <td>127.0</td>\n",
       "      <td>201.0</td>\n",
       "      <td>169.0</td>\n",
       "      <td>219.0</td>\n",
       "      <td>177.0</td>\n",
       "      <td>204.0</td>\n",
       "      <td>324.0</td>\n",
       "      <td>202.0</td>\n",
       "    </tr>\n",
       "    <tr>\n",
       "      <th>2</th>\n",
       "      <td>197.0</td>\n",
       "      <td>486.0</td>\n",
       "      <td>198.0</td>\n",
       "      <td>494.0</td>\n",
       "      <td>197.0</td>\n",
       "      <td>495.0</td>\n",
       "      <td>196.0</td>\n",
       "      <td>495.0</td>\n",
       "      <td>200.0</td>\n",
       "      <td>493.0</td>\n",
       "      <td>...</td>\n",
       "      <td>129.0</td>\n",
       "      <td>218.0</td>\n",
       "      <td>127.0</td>\n",
       "      <td>201.0</td>\n",
       "      <td>170.0</td>\n",
       "      <td>220.0</td>\n",
       "      <td>177.0</td>\n",
       "      <td>204.0</td>\n",
       "      <td>324.0</td>\n",
       "      <td>202.0</td>\n",
       "    </tr>\n",
       "    <tr>\n",
       "      <th>3</th>\n",
       "      <td>197.0</td>\n",
       "      <td>486.0</td>\n",
       "      <td>197.0</td>\n",
       "      <td>494.0</td>\n",
       "      <td>195.0</td>\n",
       "      <td>495.0</td>\n",
       "      <td>194.0</td>\n",
       "      <td>496.0</td>\n",
       "      <td>200.0</td>\n",
       "      <td>492.0</td>\n",
       "      <td>...</td>\n",
       "      <td>128.0</td>\n",
       "      <td>215.0</td>\n",
       "      <td>128.0</td>\n",
       "      <td>204.0</td>\n",
       "      <td>170.0</td>\n",
       "      <td>218.0</td>\n",
       "      <td>177.0</td>\n",
       "      <td>205.0</td>\n",
       "      <td>324.0</td>\n",
       "      <td>202.0</td>\n",
       "    </tr>\n",
       "    <tr>\n",
       "      <th>4</th>\n",
       "      <td>200.0</td>\n",
       "      <td>487.0</td>\n",
       "      <td>200.0</td>\n",
       "      <td>494.0</td>\n",
       "      <td>199.0</td>\n",
       "      <td>495.0</td>\n",
       "      <td>198.0</td>\n",
       "      <td>495.0</td>\n",
       "      <td>202.0</td>\n",
       "      <td>493.0</td>\n",
       "      <td>...</td>\n",
       "      <td>131.0</td>\n",
       "      <td>217.0</td>\n",
       "      <td>130.0</td>\n",
       "      <td>203.0</td>\n",
       "      <td>175.0</td>\n",
       "      <td>216.0</td>\n",
       "      <td>181.0</td>\n",
       "      <td>205.0</td>\n",
       "      <td>324.0</td>\n",
       "      <td>202.0</td>\n",
       "    </tr>\n",
       "    <tr>\n",
       "      <th>...</th>\n",
       "      <td>...</td>\n",
       "      <td>...</td>\n",
       "      <td>...</td>\n",
       "      <td>...</td>\n",
       "      <td>...</td>\n",
       "      <td>...</td>\n",
       "      <td>...</td>\n",
       "      <td>...</td>\n",
       "      <td>...</td>\n",
       "      <td>...</td>\n",
       "      <td>...</td>\n",
       "      <td>...</td>\n",
       "      <td>...</td>\n",
       "      <td>...</td>\n",
       "      <td>...</td>\n",
       "      <td>...</td>\n",
       "      <td>...</td>\n",
       "      <td>...</td>\n",
       "      <td>...</td>\n",
       "      <td>...</td>\n",
       "      <td>...</td>\n",
       "    </tr>\n",
       "    <tr>\n",
       "      <th>131</th>\n",
       "      <td>201.0</td>\n",
       "      <td>503.0</td>\n",
       "      <td>201.0</td>\n",
       "      <td>509.0</td>\n",
       "      <td>199.0</td>\n",
       "      <td>510.0</td>\n",
       "      <td>197.0</td>\n",
       "      <td>511.0</td>\n",
       "      <td>206.0</td>\n",
       "      <td>507.0</td>\n",
       "      <td>...</td>\n",
       "      <td>137.0</td>\n",
       "      <td>218.0</td>\n",
       "      <td>190.0</td>\n",
       "      <td>226.0</td>\n",
       "      <td>140.0</td>\n",
       "      <td>211.0</td>\n",
       "      <td>194.0</td>\n",
       "      <td>203.0</td>\n",
       "      <td>0.0</td>\n",
       "      <td>768.0</td>\n",
       "    </tr>\n",
       "    <tr>\n",
       "      <th>132</th>\n",
       "      <td>201.0</td>\n",
       "      <td>505.0</td>\n",
       "      <td>201.0</td>\n",
       "      <td>511.0</td>\n",
       "      <td>199.0</td>\n",
       "      <td>512.0</td>\n",
       "      <td>197.0</td>\n",
       "      <td>513.0</td>\n",
       "      <td>206.0</td>\n",
       "      <td>509.0</td>\n",
       "      <td>...</td>\n",
       "      <td>134.0</td>\n",
       "      <td>217.0</td>\n",
       "      <td>189.0</td>\n",
       "      <td>220.0</td>\n",
       "      <td>154.0</td>\n",
       "      <td>221.0</td>\n",
       "      <td>193.0</td>\n",
       "      <td>207.0</td>\n",
       "      <td>0.0</td>\n",
       "      <td>768.0</td>\n",
       "    </tr>\n",
       "    <tr>\n",
       "      <th>133</th>\n",
       "      <td>199.0</td>\n",
       "      <td>505.0</td>\n",
       "      <td>199.0</td>\n",
       "      <td>511.0</td>\n",
       "      <td>197.0</td>\n",
       "      <td>512.0</td>\n",
       "      <td>195.0</td>\n",
       "      <td>513.0</td>\n",
       "      <td>204.0</td>\n",
       "      <td>509.0</td>\n",
       "      <td>...</td>\n",
       "      <td>136.0</td>\n",
       "      <td>220.0</td>\n",
       "      <td>188.0</td>\n",
       "      <td>232.0</td>\n",
       "      <td>142.0</td>\n",
       "      <td>212.0</td>\n",
       "      <td>192.0</td>\n",
       "      <td>208.0</td>\n",
       "      <td>0.0</td>\n",
       "      <td>768.0</td>\n",
       "    </tr>\n",
       "    <tr>\n",
       "      <th>134</th>\n",
       "      <td>200.0</td>\n",
       "      <td>505.0</td>\n",
       "      <td>199.0</td>\n",
       "      <td>511.0</td>\n",
       "      <td>198.0</td>\n",
       "      <td>512.0</td>\n",
       "      <td>196.0</td>\n",
       "      <td>512.0</td>\n",
       "      <td>204.0</td>\n",
       "      <td>509.0</td>\n",
       "      <td>...</td>\n",
       "      <td>136.0</td>\n",
       "      <td>220.0</td>\n",
       "      <td>189.0</td>\n",
       "      <td>231.0</td>\n",
       "      <td>139.0</td>\n",
       "      <td>214.0</td>\n",
       "      <td>192.0</td>\n",
       "      <td>206.0</td>\n",
       "      <td>0.0</td>\n",
       "      <td>768.0</td>\n",
       "    </tr>\n",
       "    <tr>\n",
       "      <th>135</th>\n",
       "      <td>201.0</td>\n",
       "      <td>506.0</td>\n",
       "      <td>200.0</td>\n",
       "      <td>512.0</td>\n",
       "      <td>198.0</td>\n",
       "      <td>513.0</td>\n",
       "      <td>196.0</td>\n",
       "      <td>514.0</td>\n",
       "      <td>205.0</td>\n",
       "      <td>510.0</td>\n",
       "      <td>...</td>\n",
       "      <td>137.0</td>\n",
       "      <td>221.0</td>\n",
       "      <td>188.0</td>\n",
       "      <td>232.0</td>\n",
       "      <td>139.0</td>\n",
       "      <td>213.0</td>\n",
       "      <td>193.0</td>\n",
       "      <td>206.0</td>\n",
       "      <td>0.0</td>\n",
       "      <td>768.0</td>\n",
       "    </tr>\n",
       "  </tbody>\n",
       "</table>\n",
       "<p>136 rows × 68 columns</p>\n",
       "</div>"
      ],
      "text/plain": [
       "     nose_x  nose_y  left_eye_inner_x  left_eye_inner_y  left_eye_x  \\\n",
       "0     198.0   486.0             198.0             493.0       196.0   \n",
       "1     197.0   485.0             197.0             493.0       196.0   \n",
       "2     197.0   486.0             198.0             494.0       197.0   \n",
       "3     197.0   486.0             197.0             494.0       195.0   \n",
       "4     200.0   487.0             200.0             494.0       199.0   \n",
       "..      ...     ...               ...               ...         ...   \n",
       "131   201.0   503.0             201.0             509.0       199.0   \n",
       "132   201.0   505.0             201.0             511.0       199.0   \n",
       "133   199.0   505.0             199.0             511.0       197.0   \n",
       "134   200.0   505.0             199.0             511.0       198.0   \n",
       "135   201.0   506.0             200.0             512.0       198.0   \n",
       "\n",
       "     left_eye_y  left_eye_outer_x  left_eye_outer_y  right_eye_inner_x  \\\n",
       "0         494.0             195.0             495.0              200.0   \n",
       "1         494.0             195.0             495.0              200.0   \n",
       "2         495.0             196.0             495.0              200.0   \n",
       "3         495.0             194.0             496.0              200.0   \n",
       "4         495.0             198.0             495.0              202.0   \n",
       "..          ...               ...               ...                ...   \n",
       "131       510.0             197.0             511.0              206.0   \n",
       "132       512.0             197.0             513.0              206.0   \n",
       "133       512.0             195.0             513.0              204.0   \n",
       "134       512.0             196.0             512.0              204.0   \n",
       "135       513.0             196.0             514.0              205.0   \n",
       "\n",
       "     right_eye_inner_y  ...  left_heel_x  left_heel_y  right_heel_x  \\\n",
       "0                492.0  ...        129.0        216.0         129.0   \n",
       "1                492.0  ...        128.0        216.0         127.0   \n",
       "2                493.0  ...        129.0        218.0         127.0   \n",
       "3                492.0  ...        128.0        215.0         128.0   \n",
       "4                493.0  ...        131.0        217.0         130.0   \n",
       "..                 ...  ...          ...          ...           ...   \n",
       "131              507.0  ...        137.0        218.0         190.0   \n",
       "132              509.0  ...        134.0        217.0         189.0   \n",
       "133              509.0  ...        136.0        220.0         188.0   \n",
       "134              509.0  ...        136.0        220.0         189.0   \n",
       "135              510.0  ...        137.0        221.0         188.0   \n",
       "\n",
       "     right_heel_y  left_foot_index_x  left_foot_index_y  right_foot_index_x  \\\n",
       "0           200.0              171.0              218.0               178.0   \n",
       "1           201.0              169.0              219.0               177.0   \n",
       "2           201.0              170.0              220.0               177.0   \n",
       "3           204.0              170.0              218.0               177.0   \n",
       "4           203.0              175.0              216.0               181.0   \n",
       "..            ...                ...                ...                 ...   \n",
       "131         226.0              140.0              211.0               194.0   \n",
       "132         220.0              154.0              221.0               193.0   \n",
       "133         232.0              142.0              212.0               192.0   \n",
       "134         231.0              139.0              214.0               192.0   \n",
       "135         232.0              139.0              213.0               193.0   \n",
       "\n",
       "     right_foot_index_y  club_head_x  club_head_y  \n",
       "0                 206.0        324.0        202.0  \n",
       "1                 204.0        324.0        202.0  \n",
       "2                 204.0        324.0        202.0  \n",
       "3                 205.0        324.0        202.0  \n",
       "4                 205.0        324.0        202.0  \n",
       "..                  ...          ...          ...  \n",
       "131               203.0          0.0        768.0  \n",
       "132               207.0          0.0        768.0  \n",
       "133               208.0          0.0        768.0  \n",
       "134               206.0          0.0        768.0  \n",
       "135               206.0          0.0        768.0  \n",
       "\n",
       "[136 rows x 68 columns]"
      ]
     },
     "execution_count": 8,
     "metadata": {},
     "output_type": "execute_result"
    }
   ],
   "source": [
    "df"
   ]
  },
  {
   "cell_type": "code",
   "execution_count": 9,
   "id": "8390c3b9-7ea1-4bf0-91ef-137d28cf8586",
   "metadata": {},
   "outputs": [],
   "source": [
    "import pandas as pd\n",
    "import math\n",
    "\n",
    "def calculate_angle(v1, v2):\n",
    "    \"\"\"Calculate angle between two vectors in degrees.\"\"\"\n",
    "    dot_product = sum(v1_i * v2_i for v1_i, v2_i in zip(v1, v2))\n",
    "    magnitude_v1 = math.sqrt(sum(v1_i**2 for v1_i in v1))\n",
    "    magnitude_v2 = math.sqrt(sum(v2_i**2 for v2_i in v2))\n",
    "    if magnitude_v1 == 0 or magnitude_v2 == 0:\n",
    "        angle =  0\n",
    "    else:\n",
    "        angle = math.acos(dot_product / (magnitude_v1 * magnitude_v2))\n",
    "    return math.degrees(angle)\n",
    "\n",
    "def get_vectors(df):\n",
    "    return [(df.iloc[i+1]['x'] - df.iloc[i]['x'], df.iloc[i+1]['y'] - df.iloc[i]['y']) \n",
    "           for i in range(len(df) - 1)]\n",
    "\n",
    "def get_angles(vectors):\n",
    "    return [0] + [calculate_angle(vectors[i], vectors[i+1]) if i < len(vectors) - 1 else None \n",
    "                   for i in range(len(vectors))]\n",
    "def distance(df, i, j):\n",
    "    '''compute the distance using the x and y columns from index i to j'''\n",
    "    x1, y1 = df.loc[i, 'x'], df.loc[i, 'y']\n",
    "    x2, y2 = df.loc[j, 'x'], df.loc[j, 'y']\n",
    "    distance = math.sqrt((x2 - x1)**2 + (y2 - y1)**2)\n",
    "    return distance\n",
    "\n",
    "def speed(df, fps, i=None, j=None):\n",
    "    if i is None:\n",
    "        i = 0\n",
    "    if j is None:\n",
    "        j = len(df) - 1\n",
    "    num_frames = j - i\n",
    "    time_secs = num_frames/fps\n",
    "    return distance(df, i, j) / time_secs"
   ]
  },
  {
   "cell_type": "markdown",
   "id": "6381d008-3643-4537-b2e9-7239639e132f",
   "metadata": {},
   "source": [
    "A golf swing has the following phases.\n",
    "1. Backswing: From the start the club head is moving in a straight line till there is a sharp change in angle (> 100 degrees)\n",
    "2. Transition A: The club head is now moving in positive 'x' direction till it stops and reverses direction.\n",
    "3. Transition B: The club head is moving downward till a sharp change in angle.\n",
    "4. Downswing: Club head is moving in positive direction till it reaches close to the start position. This is the impact point.\n",
    "5. Follow Through: After impact.\n",
    "6. Finish: Club head reverses direction\n",
    "\n",
    "Visually \n",
    "1. Backswing from 0 to 70\n",
    "2. TransitionA from 71 to 80\n",
    "3. TransitonB from 81 to 86 (Frame 86 is the highest y value)\n",
    "4. Downswing from 87 having impact at frame 90\n",
    "5. Follow Through: 81 to 96 (Frame 96 is the highest y value)\n",
    "6. Finish from 96 to 105 (end)"
   ]
  },
  {
   "cell_type": "code",
   "execution_count": 10,
   "id": "c7e1bfbc-e5b4-41f7-9232-3f9c9750bf7a",
   "metadata": {},
   "outputs": [],
   "source": [
    "ch = df[[\"club_head_x\", \"club_head_y\"]].rename(columns={\"club_head_x\": \"x\", \"club_head_y\": \"y\"}).astype(int)"
   ]
  },
  {
   "cell_type": "code",
   "execution_count": 11,
   "id": "1858a565-a6fd-43e9-838b-080f0b972075",
   "metadata": {},
   "outputs": [
    {
     "data": {
      "text/html": [
       "<div>\n",
       "<style scoped>\n",
       "    .dataframe tbody tr th:only-of-type {\n",
       "        vertical-align: middle;\n",
       "    }\n",
       "\n",
       "    .dataframe tbody tr th {\n",
       "        vertical-align: top;\n",
       "    }\n",
       "\n",
       "    .dataframe thead th {\n",
       "        text-align: right;\n",
       "    }\n",
       "</style>\n",
       "<table border=\"1\" class=\"dataframe\">\n",
       "  <thead>\n",
       "    <tr style=\"text-align: right;\">\n",
       "      <th></th>\n",
       "      <th>x</th>\n",
       "      <th>y</th>\n",
       "    </tr>\n",
       "  </thead>\n",
       "  <tbody>\n",
       "    <tr>\n",
       "      <th>0</th>\n",
       "      <td>324</td>\n",
       "      <td>202</td>\n",
       "    </tr>\n",
       "    <tr>\n",
       "      <th>1</th>\n",
       "      <td>324</td>\n",
       "      <td>202</td>\n",
       "    </tr>\n",
       "    <tr>\n",
       "      <th>2</th>\n",
       "      <td>324</td>\n",
       "      <td>202</td>\n",
       "    </tr>\n",
       "    <tr>\n",
       "      <th>3</th>\n",
       "      <td>324</td>\n",
       "      <td>202</td>\n",
       "    </tr>\n",
       "    <tr>\n",
       "      <th>4</th>\n",
       "      <td>324</td>\n",
       "      <td>202</td>\n",
       "    </tr>\n",
       "    <tr>\n",
       "      <th>...</th>\n",
       "      <td>...</td>\n",
       "      <td>...</td>\n",
       "    </tr>\n",
       "    <tr>\n",
       "      <th>131</th>\n",
       "      <td>0</td>\n",
       "      <td>768</td>\n",
       "    </tr>\n",
       "    <tr>\n",
       "      <th>132</th>\n",
       "      <td>0</td>\n",
       "      <td>768</td>\n",
       "    </tr>\n",
       "    <tr>\n",
       "      <th>133</th>\n",
       "      <td>0</td>\n",
       "      <td>768</td>\n",
       "    </tr>\n",
       "    <tr>\n",
       "      <th>134</th>\n",
       "      <td>0</td>\n",
       "      <td>768</td>\n",
       "    </tr>\n",
       "    <tr>\n",
       "      <th>135</th>\n",
       "      <td>0</td>\n",
       "      <td>768</td>\n",
       "    </tr>\n",
       "  </tbody>\n",
       "</table>\n",
       "<p>136 rows × 2 columns</p>\n",
       "</div>"
      ],
      "text/plain": [
       "       x    y\n",
       "0    324  202\n",
       "1    324  202\n",
       "2    324  202\n",
       "3    324  202\n",
       "4    324  202\n",
       "..   ...  ...\n",
       "131    0  768\n",
       "132    0  768\n",
       "133    0  768\n",
       "134    0  768\n",
       "135    0  768\n",
       "\n",
       "[136 rows x 2 columns]"
      ]
     },
     "execution_count": 11,
     "metadata": {},
     "output_type": "execute_result"
    }
   ],
   "source": [
    "ch"
   ]
  },
  {
   "cell_type": "code",
   "execution_count": 12,
   "id": "3318fa56-417c-4c87-9910-727556cc3ce5",
   "metadata": {},
   "outputs": [],
   "source": [
    "angles = get_angles(get_vectors(ch))\n",
    "angles = [0 if x is None else x for x in angles]"
   ]
  },
  {
   "cell_type": "code",
   "execution_count": 13,
   "id": "7433c466-1c73-442a-81ac-a155a972d943",
   "metadata": {},
   "outputs": [],
   "source": [
    "indices = [index for index, value in enumerate(angles) if value > 100]"
   ]
  },
  {
   "cell_type": "code",
   "execution_count": 258,
   "id": "f57aa3be-affd-46ba-aaaf-9333b6182038",
   "metadata": {},
   "outputs": [
    {
     "data": {
      "text/plain": [
       "[70, 80, 85, 89]"
      ]
     },
     "execution_count": 258,
     "metadata": {},
     "output_type": "execute_result"
    }
   ],
   "source": [
    "indices"
   ]
  },
  {
   "cell_type": "code",
   "execution_count": 275,
   "id": "5770954e-52f1-4c18-9b84-13bb3b76e883",
   "metadata": {},
   "outputs": [],
   "source": [
    "backswing = ch[0:indices[0]]\n",
    "transA = ch[indices[0]: indices[1]].reset_index(drop=True)\n",
    "transB = ch[indices[1]: indices[2]].reset_index(drop=True)\n",
    "downswing = ch[indices[2]: indices[3]].reset_index(drop=True)\n",
    "finish = ch[indices[3]:].reset_index(drop=True)"
   ]
  },
  {
   "cell_type": "code",
   "execution_count": 276,
   "id": "4fe4389b-5ad4-4a5a-9b22-7eb0439e29dd",
   "metadata": {},
   "outputs": [
    {
     "data": {
      "text/plain": [
       "<Figure size 1000x600 with 0 Axes>"
      ]
     },
     "execution_count": 276,
     "metadata": {},
     "output_type": "execute_result"
    },
    {
     "data": {
      "text/plain": [
       "<Figure size 1000x600 with 0 Axes>"
      ]
     },
     "metadata": {},
     "output_type": "display_data"
    }
   ],
   "source": [
    "plt.figure(figsize=(10, 6))"
   ]
  },
  {
   "cell_type": "code",
   "execution_count": 277,
   "id": "158dfd3e-fb9b-48f2-931f-39c3e967024b",
   "metadata": {},
   "outputs": [
    {
     "data": {
      "text/plain": [
       "[<matplotlib.lines.Line2D at 0x1d91f15d220>]"
      ]
     },
     "execution_count": 277,
     "metadata": {},
     "output_type": "execute_result"
    },
    {
     "data": {
      "image/png": "[encoded data removed]",
      "text/plain": [
       "<Figure size 640x480 with 1 Axes>"
      ]
     },
     "metadata": {},
     "output_type": "display_data"
    }
   ],
   "source": [
    "plt.plot(backswing['x'], backswing['y'], marker='o')\n",
    "plt.plot(downswing['x'], downswing['y'], marker='+')"
   ]
  },
  {
   "cell_type": "markdown",
   "id": "06ee14d7-1089-471f-9fb8-135d223e99b4",
   "metadata": {},
   "source": [
    "**Club Head Speed**\n",
    "\n",
    "Calculate the speed of the club head in the backswing and downswing.\n",
    "We know the fps and so just get the distance in pixels.\n",
    "Intent is that the back_speed should be say 10x slower than downswing."
   ]
  },
  {
   "cell_type": "code",
   "execution_count": 285,
   "id": "ef81bfe2-109c-494a-b268-4ebeb3f4c42a",
   "metadata": {},
   "outputs": [
    {
     "name": "stdout",
     "output_type": "stream",
     "text": [
      "BackSpeed=223 pixels/sec\n"
     ]
    }
   ],
   "source": [
    "\n",
    "back_speed = speed(backswing, gd.video_spec.fps)\n",
    "print(f\"BackSpeed={int(back_speed)} pixels/sec\")\n"
   ]
  },
  {
   "cell_type": "code",
   "execution_count": 286,
   "id": "59539f2d-96e6-44ee-9095-ca933e3620de",
   "metadata": {},
   "outputs": [
    {
     "name": "stdout",
     "output_type": "stream",
     "text": [
      "DownSpeed=2985 pixels/sec\n"
     ]
    }
   ],
   "source": [
    "down_speed = speed(downswing, gd.video_spec.fps)\n",
    "print(f\"DownSpeed={int(down_speed)} pixels/sec\")"
   ]
  },
  {
   "cell_type": "markdown",
   "id": "6be7619e-74c2-4a11-9c1b-64877057620c",
   "metadata": {},
   "source": [
    "Calcuate the impact frame\n",
    "1. The position of the club head is closest to the starting position.\n",
    "2. It must be after the backswing.\n",
    "   "
   ]
  },
  {
   "cell_type": "code",
   "execution_count": 288,
   "id": "b491aecb-49c2-40df-9fdb-24278cb98649",
   "metadata": {},
   "outputs": [
    {
     "data": {
      "text/plain": [
       "(324, 202)"
      ]
     },
     "execution_count": 288,
     "metadata": {},
     "output_type": "execute_result"
    }
   ],
   "source": [
    "golf_ball = (backswing.iloc[0]['x'], backswing.iloc[0]['y'])\n",
    "golf_ball\n"
   ]
  },
  {
   "cell_type": "code",
   "execution_count": 290,
   "id": "4d10429b-e1c8-47d2-bcc1-0e819eb83259",
   "metadata": {},
   "outputs": [],
   "source": [
    "import numpy as np\n",
    "distances = np.sqrt((ch['x'] - golf_ball[0])**2 + (ch['y'] - golf_ball[1])**2)"
   ]
  },
  {
   "cell_type": "code",
   "execution_count": 292,
   "id": "76113d22-1046-45ac-9ff7-a6cc8ab9488d",
   "metadata": {},
   "outputs": [
    {
     "name": "stdout",
     "output_type": "stream",
     "text": [
      "Impact frame is at 90\n"
     ]
    }
   ],
   "source": [
    "impact_idx = distances[len(backswing):].idxmin()\n",
    "print(f\"Impact frame is at {impact_idx}\")"
   ]
  },
  {
   "cell_type": "markdown",
   "id": "906956aa-50d3-43b8-88f3-fbb73d3276e3",
   "metadata": {},
   "source": [
    "**Reversal For Backswing to Downswing**\n",
    "\n",
    "Find the point at which the direction changes."
   ]
  },
  {
   "cell_type": "code",
   "execution_count": 294,
   "id": "028fc35a-890d-4106-81ca-8f0a92b4319c",
   "metadata": {},
   "outputs": [
    {
     "data": {
      "text/plain": [
       "Index([41, 66, 81, 88, 91], dtype='int64')"
      ]
     },
     "execution_count": 294,
     "metadata": {},
     "output_type": "execute_result"
    }
   ],
   "source": [
    "ch['delta_x'] = ch['x'].diff()\n",
    "sign_change_x = ((ch['delta_x'].shift(1) * ch['delta_x']) < 0)\n",
    "reversal_indices = ch[sign_change_x].index\n",
    "reversal_indices"
   ]
  },
  {
   "cell_type": "code",
   "execution_count": 297,
   "id": "2e5684b0-e94c-48f3-82ca-186f1e63c43b",
   "metadata": {},
   "outputs": [
    {
     "name": "stdout",
     "output_type": "stream",
     "text": [
      "Transition from back to down swing happens  on frame=81\n"
     ]
    }
   ],
   "source": [
    "tmp = [i for i in reversal_indices if i > len(backswing)][0]\n",
    "print(f\"Transition from back to down swing happens  on frame={tmp}\")"
   ]
  },
  {
   "cell_type": "markdown",
   "id": "b2f0cd98-da62-4655-9d9a-8022004a4456",
   "metadata": {},
   "source": [
    "**Head Movement**\n",
    "\n",
    "At impact frame the head should be at the same position as the starting frame.\n",
    "\n",
    "At highest y point in the backswing the head should not move."
   ]
  },
  {
   "cell_type": "code",
   "execution_count": 307,
   "id": "61ce94d8-709f-4f42-b4d6-e74df6c3ab61",
   "metadata": {},
   "outputs": [
    {
     "data": {
      "text/plain": [
       "(198.0, 486.0)"
      ]
     },
     "execution_count": 307,
     "metadata": {},
     "output_type": "execute_result"
    }
   ],
   "source": [
    "x1, y1 = (df.iloc[0]['nose_x'], df.iloc[0]['nose_y'])\n",
    "x1, y1"
   ]
  },
  {
   "cell_type": "code",
   "execution_count": 308,
   "id": "cf7ddab9",
   "metadata": {},
   "outputs": [
    {
     "data": {
      "text/plain": [
       "(220.0, 457.0)"
      ]
     },
     "execution_count": 308,
     "metadata": {},
     "output_type": "execute_result"
    }
   ],
   "source": [
    "x2, y2 = (df.iloc[impact_idx]['nose_x'], df.iloc[impact_idx]['nose_y'])\n",
    "x2, y2"
   ]
  },
  {
   "cell_type": "code",
   "execution_count": 303,
   "id": "4df765cf-3610-48e3-a46f-59b262cccadc",
   "metadata": {},
   "outputs": [],
   "source": [
    " dist = math.sqrt((x2 - x1)**2 + (y2 - y1)**2)\n"
   ]
  },
  {
   "cell_type": "code",
   "execution_count": 306,
   "id": "3070da6b-652e-4d08-9542-ccdc8f000fd0",
   "metadata": {},
   "outputs": [
    {
     "name": "stdout",
     "output_type": "stream",
     "text": [
      "Head moved down by 36 pixels during impact\n"
     ]
    }
   ],
   "source": [
    "if y2 > y1:\n",
    "    print(f\"Head moved up by {int(dist)} pixels during impact\")\n",
    "else:\n",
    "    print(f\"Head moved down by {int(dist)} pixels during impact\")"
   ]
  },
  {
   "cell_type": "code",
   "execution_count": 310,
   "id": "2406d98e-a636-48ac-bddd-34e36565738b",
   "metadata": {},
   "outputs": [
    {
     "name": "stdout",
     "output_type": "stream",
     "text": [
      "Found the club head at highest point in frame_idx=69\n"
     ]
    }
   ],
   "source": [
    "n = len(backswing)\n",
    "high_idx = ch['y'][:n].idxmax()\n",
    "print(f\"Found the club head at highest point in frame_idx={high_idx}\")"
   ]
  },
  {
   "cell_type": "code",
   "execution_count": 313,
   "id": "2533ec3e-c20c-47dd-90ed-22d3f2d21020",
   "metadata": {},
   "outputs": [
    {
     "data": {
      "text/plain": [
       "(197.0, 490.0)"
      ]
     },
     "execution_count": 313,
     "metadata": {},
     "output_type": "execute_result"
    }
   ],
   "source": [
    "x1, y1 = (df.iloc[0]['right_ear_x'], df.iloc[0]['right_ear_y'])\n",
    "x1, y1"
   ]
  },
  {
   "cell_type": "code",
   "execution_count": 314,
   "id": "faba9f7c-e67e-4687-a39a-170404278f08",
   "metadata": {},
   "outputs": [
    {
     "data": {
      "text/plain": [
       "(207.0, 472.0)"
      ]
     },
     "execution_count": 314,
     "metadata": {},
     "output_type": "execute_result"
    }
   ],
   "source": [
    "x2, y2 = (df.iloc[high_idx]['right_ear_x'], df.iloc[high_idx]['right_ear_y'])\n",
    "x2, y2"
   ]
  },
  {
   "cell_type": "code",
   "execution_count": 315,
   "id": "a72660d7-0c01-47aa-a444-f4bc9eb3816d",
   "metadata": {},
   "outputs": [
    {
     "name": "stdout",
     "output_type": "stream",
     "text": [
      "Head moved down by 36 pixels during backswin\n"
     ]
    }
   ],
   "source": [
    "if y2 > y1:\n",
    "    print(f\"Head moved up by {int(dist)} pixels during backswing\")\n",
    "else:\n",
    "    print(f\"Head moved down by {int(dist)} pixels during backswin\")"
   ]
  },
  {
   "cell_type": "code",
   "execution_count": null,
   "id": "e15b2eb1-7062-47e3-8ca0-22049a4c6c80",
   "metadata": {},
   "outputs": [],
   "source": []
  }
 ],
 "metadata": {
  "kernelspec": {
   "display_name": "Python 3 (ipykernel)",
   "language": "python",
   "name": "python3"
  },
  "language_info": {
   "codemirror_mode": {
    "name": "ipython",
    "version": 3
   },
   "file_extension": ".py",
   "mimetype": "text/x-python",
   "name": "python",
   "nbconvert_exporter": "python",
   "pygments_lexer": "ipython3",
   "version": "3.9.7"
  }
 },
 "nbformat": 4,
 "nbformat_minor": 5
}
