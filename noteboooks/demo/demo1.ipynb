{
 "cells": [
  {
   "cell_type": "code",
   "execution_count": 1,
   "id": "4f282c18-7135-4214-8385-e3d8061e6186",
   "metadata": {},
   "outputs": [],
   "source": [
    "import golftrainer.factory"
   ]
  },
  {
   "cell_type": "code",
   "execution_count": 2,
   "id": "87904e29-e304-4b20-88ac-183442ed412f",
   "metadata": {},
   "outputs": [],
   "source": [
    "json_fname = \"../../data/demo.json\"\n",
    "gd = golftrainer.factory.create_golf_data(json_fname)"
   ]
  },
  {
   "cell_type": "code",
   "execution_count": 4,
   "id": "a0491631-2041-4dcd-9bf6-943f490bd048",
   "metadata": {},
   "outputs": [
    {
     "data": {
      "text/plain": [
       "VideoSpec(height=768, width=432, num_frames=136, fps=30, scale=100, rotate='')"
      ]
     },
     "execution_count": 4,
     "metadata": {},
     "output_type": "execute_result"
    }
   ],
   "source": [
    "gd.video_spec"
   ]
  },
  {
   "cell_type": "code",
   "execution_count": 5,
   "id": "ef6d1ac0-987b-4d57-94a6-9f23c1263780",
   "metadata": {},
   "outputs": [],
   "source": [
    "df = gd.screen_data_frame()"
   ]
  },
  {
   "cell_type": "code",
   "execution_count": 6,
   "id": "86b77497-7179-4d38-9a91-7c10b4559296",
   "metadata": {},
   "outputs": [
    {
     "name": "stdout",
     "output_type": "stream",
     "text": [
      "['nose_x', 'nose_y', 'left_eye_inner_x', 'left_eye_inner_y', 'left_eye_x', 'left_eye_y', 'left_eye_outer_x', 'left_eye_outer_y', 'right_eye_inner_x', 'right_eye_inner_y', 'right_eye_x', 'right_eye_y', 'right_eye_outer_x', 'right_eye_outer_y', 'left_ear_x', 'left_ear_y', 'right_ear_x', 'right_ear_y', 'mouth_left_x', 'mouth_left_y', 'mouth_right_x', 'mouth_right_y', 'left_shoulder_x', 'left_shoulder_y', 'right_shoulder_x', 'right_shoulder_y', 'left_elbow_x', 'left_elbow_y', 'right_elbow_x', 'right_elbow_y', 'left_wrist_x', 'left_wrist_y', 'right_wrist_x', 'right_wrist_y', 'left_pinky_x', 'left_pinky_y', 'right_pinky_x', 'right_pinky_y', 'left_index_x', 'left_index_y', 'right_index_x', 'right_index_y', 'left_thumb_x', 'left_thumb_y', 'right_thumb_x', 'right_thumb_y', 'left_hip_x', 'left_hip_y', 'right_hip_x', 'right_hip_y', 'left_knee_x', 'left_knee_y', 'right_knee_x', 'right_knee_y', 'left_ankle_x', 'left_ankle_y', 'right_ankle_x', 'right_ankle_y', 'left_heel_x', 'left_heel_y', 'right_heel_x', 'right_heel_y', 'left_foot_index_x', 'left_foot_index_y', 'right_foot_index_x', 'right_foot_index_y', 'club_head_x', 'club_head_y']\n"
     ]
    }
   ],
   "source": [
    "print(list(df.columns))"
   ]
  },
  {
   "cell_type": "code",
   "execution_count": 12,
   "id": "8e61f4a6-24b8-474e-abb3-26c2533c5904",
   "metadata": {},
   "outputs": [
    {
     "data": {
      "text/plain": [
       "198.0"
      ]
     },
     "execution_count": 12,
     "metadata": {},
     "output_type": "execute_result"
    }
   ],
   "source": [
    "df.iloc[0]['nose_x']"
   ]
  },
  {
   "cell_type": "code",
   "execution_count": null,
   "id": "62e20ce5-bd90-406d-9334-0ff891cf7fe2",
   "metadata": {},
   "outputs": [],
   "source": []
  }
 ],
 "metadata": {
  "kernelspec": {
   "display_name": "Python 3 (ipykernel)",
   "language": "python",
   "name": "python3"
  },
  "language_info": {
   "codemirror_mode": {
    "name": "ipython",
    "version": 3
   },
   "file_extension": ".py",
   "mimetype": "text/x-python",
   "name": "python",
   "nbconvert_exporter": "python",
   "pygments_lexer": "ipython3",
   "version": "3.9.7"
  }
 },
 "nbformat": 4,
 "nbformat_minor": 5
}
